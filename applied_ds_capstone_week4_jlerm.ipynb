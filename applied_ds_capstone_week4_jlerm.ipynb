{
  "nbformat": 4,
  "nbformat_minor": 0,
  "metadata": {
    "colab": {
      "name": "applied-ds-capstone-week4-jlerm.ipynb",
      "provenance": [],
      "collapsed_sections": [],
      "authorship_tag": "ABX9TyNnTcIqkyDWPLsn7p7SSy7P",
      "include_colab_link": true
    },
    "kernelspec": {
      "name": "python3",
      "display_name": "Python 3"
    },
    "language_info": {
      "name": "python"
    }
  },
  "cells": [
    {
      "cell_type": "markdown",
      "metadata": {
        "id": "view-in-github",
        "colab_type": "text"
      },
      "source": [
        "<a href=\"https://colab.research.google.com/github/jcplerm/courserapub/blob/master/applied_ds_capstone_week4_jlerm.ipynb\" target=\"_parent\"><img src=\"https://colab.research.google.com/assets/colab-badge.svg\" alt=\"Open In Colab\"/></a>"
      ]
    },
    {
      "cell_type": "markdown",
      "metadata": {
        "id": "rut4j1NR3vOZ"
      },
      "source": [
        "# Capstone Project - The Battle of Neighborhoods (Week 1)\n",
        "\n",
        "# Finding Locations for New Brazilian Steakhouses (Churrascaria)\n",
        "\n",
        "Julius Lerm\n"
      ]
    },
    {
      "cell_type": "markdown",
      "metadata": {
        "id": "srShkZ7CP9ph"
      },
      "source": [
        "## Introduction/Business Problem"
      ]
    },
    {
      "cell_type": "markdown",
      "metadata": {
        "id": "OYM7WyXNFRPQ"
      },
      "source": [
        "There's a special type of Brazilian steakhouse known as \"Churrascaria\" in Portuguese. They originated in Southern Brazil and provide a unique experience, when compared to other types of restaurants. The main feature is an \"all-you-can-eat\" experience where a variety of meat cuts are brought to the table in skewers. Patrons can control the flow of meat with a red/green token placed on the table.\n",
        " \n",
        "The experience is enhanced with a salad bar (a special for vegetarian patrons...), in addition to other menu items. This makes it possible to entertain large groups with varying degrees of appreciation for a carnivore diet. Brazilian steakhouses also tend to offer a large selection of wines and spirits.\n",
        "\n",
        "Over the course of the previous 15 or 20 years, a number of chains became well established, in major metropolitan areas and travel destinations in the US. \n",
        "\n",
        "At least one of them, originally from Brazil, was acquired and is now operated by a US-based company. They kept the same brand name and experience. \n",
        "\n",
        "Brazilian steakhouses are certainly not a favourite of all Americans, but based on the opinion of colleagues and acquaitances over the years, it's certainly a favorite  of a large number of individuals and families. This can be verified by the attendance.\n",
        "\n",
        "It seems to me that although the number of Brazilian steakhouses increased across the USA over the years, there's still room for more restaurants. \n",
        "\n",
        "The goal of this study will be to investigate what would be the goegraphical areas in the US that show potential for new restaurants of this type.\n"
      ]
    },
    {
      "cell_type": "markdown",
      "metadata": {
        "id": "LbWil-TNFOyX"
      },
      "source": [
        "## Data Description"
      ]
    },
    {
      "cell_type": "markdown",
      "metadata": {
        "id": "X3yJq9ciFYok"
      },
      "source": [
        "I will ***try*** to carry out this experiment entirely based on Foursquare data, to identify locations of well-nown existing Brazilian steakhouses across the entire US. I will start with a list of known Brazilian steakhouse chains, then find their locations via Foursquare API calls.\n",
        "\n",
        "Then I will search for restaurant clusters in tourist destinations, metropolitan areas and shopping malls, and find the intersection between the two groups.\n",
        "\n",
        "This should provide an overview of areas with potential for placement of new Brazilian Steakhouses, across the entire continental USA.\n",
        "\n",
        "Depending on those results, I may drill down into specific areas of the map, in order to fine tune the location in one of them.\n",
        "\n",
        "Also, I ***may*** resort to other datasets and APIs such as Google, depending on the direction the investigation takes as I move along.\n",
        "\n"
      ]
    },
    {
      "cell_type": "code",
      "metadata": {
        "id": "-Wag5gdPFXVS"
      },
      "source": [
        ""
      ],
      "execution_count": null,
      "outputs": []
    }
  ]
}