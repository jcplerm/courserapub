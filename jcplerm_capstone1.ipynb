{
  "nbformat": 4,
  "nbformat_minor": 0,
  "metadata": {
    "colab": {
      "name": "jcplerm-capstone1.ipynb",
      "provenance": [],
      "authorship_tag": "ABX9TyO6uTuNqumFpLvMJO9J3/+a",
      "include_colab_link": true
    },
    "kernelspec": {
      "name": "python3",
      "display_name": "Python 3"
    },
    "language_info": {
      "name": "python"
    }
  },
  "cells": [
    {
      "cell_type": "markdown",
      "metadata": {
        "id": "view-in-github",
        "colab_type": "text"
      },
      "source": [
        "<a href=\"https://colab.research.google.com/github/jcplerm/courserapub/blob/master/jcplerm_capstone1.ipynb\" target=\"_parent\"><img src=\"https://colab.research.google.com/assets/colab-badge.svg\" alt=\"Open In Colab\"/></a>"
      ]
    },
    {
      "cell_type": "markdown",
      "metadata": {
        "id": "ILY2GOrin35n"
      },
      "source": [
        "# Description\n",
        "\n",
        "This notebook is used for the Capstone project of IBM's Data Science Professional Certificate on Coursera.\n",
        "\n",
        "By Julius Lerm"
      ]
    },
    {
      "cell_type": "code",
      "metadata": {
        "id": "GxxIXxqdoGlz"
      },
      "source": [
        "import pandas as pd\n",
        "import numpy as np"
      ],
      "execution_count": 1,
      "outputs": []
    },
    {
      "cell_type": "code",
      "metadata": {
        "id": "BKgwPxHYoSJh",
        "outputId": "5bac45e0-9c37-4240-b025-8f1121d4e622",
        "colab": {
          "base_uri": "https://localhost:8080/"
        }
      },
      "source": [
        "print ('Hello Capstone Project Course!')"
      ],
      "execution_count": 2,
      "outputs": [
        {
          "output_type": "stream",
          "text": [
            "Hello Capstone Project Course!\n"
          ],
          "name": "stdout"
        }
      ]
    },
    {
      "cell_type": "code",
      "metadata": {
        "id": "MUrWW0wSoXnT"
      },
      "source": [
        ""
      ],
      "execution_count": null,
      "outputs": []
    }
  ]
}